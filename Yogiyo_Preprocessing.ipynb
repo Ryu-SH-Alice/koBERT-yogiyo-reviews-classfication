{
  "nbformat": 4,
  "nbformat_minor": 0,
  "metadata": {
    "colab": {
      "name": "Yogiyo_Preprocessing.ipynb",
      "provenance": [],
      "collapsed_sections": []
    },
    "kernelspec": {
      "name": "python3",
      "display_name": "Python 3"
    },
    "language_info": {
      "name": "python"
    }
  },
  "cells": [
    {
      "cell_type": "markdown",
      "metadata": {
        "id": "ZXzWfXLW2U1Q"
      },
      "source": [
        "#Import"
      ]
    },
    {
      "cell_type": "code",
      "metadata": {
        "id": "WSd6BAUm2T2b"
      },
      "source": [
        "import os\n",
        "import re\n",
        "import pandas as pd"
      ],
      "execution_count": 29,
      "outputs": []
    },
    {
      "cell_type": "markdown",
      "metadata": {
        "id": "VAZmgCNi4lZz"
      },
      "source": [
        "#경고 제거"
      ]
    },
    {
      "cell_type": "code",
      "metadata": {
        "id": "NtsSRe3N4nDr"
      },
      "source": [
        "#경고 제거\n",
        "import warnings\n",
        "warnings.filterwarnings(action='ignore')"
      ],
      "execution_count": 30,
      "outputs": []
    },
    {
      "cell_type": "markdown",
      "metadata": {
        "id": "YuDlRPuo2XYv"
      },
      "source": [
        "Google Mount"
      ]
    },
    {
      "cell_type": "code",
      "metadata": {
        "colab": {
          "base_uri": "https://localhost:8080/"
        },
        "id": "gZDj_0Yh2cGH",
        "outputId": "0df28555-6d6b-4dd5-e121-1cf02647e86a"
      },
      "source": [
        "from google.colab import drive\n",
        "drive.mount('/content/drive')"
      ],
      "execution_count": 31,
      "outputs": [
        {
          "output_type": "stream",
          "text": [
            "Drive already mounted at /content/drive; to attempt to forcibly remount, call drive.mount(\"/content/drive\", force_remount=True).\n"
          ],
          "name": "stdout"
        }
      ]
    },
    {
      "cell_type": "markdown",
      "metadata": {
        "id": "qpebOqIj2fzN"
      },
      "source": [
        "#파일이 들어있는 경로 설정"
      ]
    },
    {
      "cell_type": "code",
      "metadata": {
        "id": "dHU60DRN2h79"
      },
      "source": [
        "path = '/content/drive/MyDrive/yogiyo/data/'"
      ],
      "execution_count": 32,
      "outputs": []
    },
    {
      "cell_type": "markdown",
      "metadata": {
        "id": "qA8vndFc2i91"
      },
      "source": [
        "#경로에 있는 모든 파일의 파일명 읽어오기\n",
        "### 나중에 개수를 제한해서 추출할 것이기 때문에 랜덤하게 뽑을 생각으로 set 적용"
      ]
    },
    {
      "cell_type": "code",
      "metadata": {
        "id": "UXpcA9p62pBb"
      },
      "source": [
        "filenames = os.listdir(path)\n",
        "filenames = set(filenames)"
      ],
      "execution_count": 33,
      "outputs": []
    },
    {
      "cell_type": "markdown",
      "metadata": {
        "id": "Cy7lV1l93p5p"
      },
      "source": [
        "#디렉토리 내의 모든 csv파일 읽어오기"
      ]
    },
    {
      "cell_type": "code",
      "metadata": {
        "id": "CHYFaoW43vWz"
      },
      "source": [
        "df = None\n",
        "\n",
        "for filename in filenames:\n",
        "    temp = pd.read_csv(path + filename)\n",
        "    if df is None:\n",
        "        df = temp\n",
        "        continue\n",
        "    df = pd.concat([df, temp])\n",
        "\n",
        "df.dropna(how='any', inplace=True)\n",
        "\n",
        "df = df.reset_index()\n",
        "\n",
        "df = df.drop(['Unnamed: 0', 'index'], axis=1)\n",
        "\n",
        "df[['Total','Taste','Quantity','Delivery']].astype('int')    \n",
        "df.Category = df.Category.astype('category')\n",
        "\n",
        "df.to_csv('/content/drive/MyDrive/yogiyo/train_test_data/total_review.csv')"
      ],
      "execution_count": 34,
      "outputs": []
    },
    {
      "cell_type": "markdown",
      "metadata": {
        "id": "5yYPaSQk312Z"
      },
      "source": [
        "#Review에서 한글, 숫자, 공백을 제외한 모든 글자 삭제"
      ]
    },
    {
      "cell_type": "code",
      "metadata": {
        "id": "ioG67MIn31Xo"
      },
      "source": [
        "for i in range(len(df)):\n",
        "    df.Review[i] = re.sub('[^가-힣0-9 ]', '', df.Review[i])\n",
        "    if len(df.Review[i]) < 12:\n",
        "        df.Review[i] = None\n",
        "\n",
        "df.dropna(inplace=True)\n",
        "\n",
        "df = df.reset_index()\n",
        "\n",
        "df.drop('index', axis=1, inplace=True)\n",
        "\n",
        "df.to_csv(path+'sampledata_all.csv')"
      ],
      "execution_count": 35,
      "outputs": []
    },
    {
      "cell_type": "markdown",
      "metadata": {
        "id": "yYlkZpDR39LY"
      },
      "source": [
        "#각 점수별로 원하는 개수만큼만 추출"
      ]
    },
    {
      "cell_type": "code",
      "metadata": {
        "id": "lSxLI0vVIqL9"
      },
      "source": [
        "count1 = 0\n",
        "count2 = 0\n",
        "count3 = 0\n",
        "count4 = 0\n",
        "count5 = 0\n",
        "\n",
        "max = 400\n",
        "\n",
        "for i in range(len(df)):\n",
        "    if df.Total[i] == 1:\n",
        "        if count1 >= max:\n",
        "            df.Total[i] = None\n",
        "        count1 += 1\n",
        "    elif df.Total[i] == 2:\n",
        "        if count2 >= max:\n",
        "            df.Total[i] = None\n",
        "        count2 += 1\n",
        "    elif df.Total[i] == 3:\n",
        "        if count3 >= max:\n",
        "            df.Total[i] = None\n",
        "        count3 += 1\n",
        "    elif df.Total[i] == 4:\n",
        "        if count4 >= max:\n",
        "            df.Total[i] = None\n",
        "        count4 += 1\n",
        "    elif df.Total[i] == 5:\n",
        "        if count5 >= max:\n",
        "            df.Total[i] = None\n",
        "        count5 += 1\n",
        "\n",
        "df.dropna(inplace=True)\n",
        "\n",
        "df = df.reset_index()\n",
        "\n",
        "df.drop('index', axis=1, inplace=True)\n",
        "\n",
        "df.Total.value_counts()\n",
        "\n",
        "df.to_csv('/content/drive/MyDrive/yogiyo/train_test_data/sampledata.csv')\n",
        "\n",
        "df[['Review', 'Total']].to_csv('/content/drive/MyDrive/yogiyo/train_test_data/textdata.csv')"
      ],
      "execution_count": 36,
      "outputs": []
    },
    {
      "cell_type": "markdown",
      "metadata": {
        "id": "OGnRjYTE4aMk"
      },
      "source": [
        "#리뷰의 길이 시각화"
      ]
    },
    {
      "cell_type": "code",
      "metadata": {
        "colab": {
          "base_uri": "https://localhost:8080/",
          "height": 279
        },
        "id": "xXi5cFCQ3myE",
        "outputId": "9ab53329-f060-491a-c133-585defc09ab3"
      },
      "source": [
        "import matplotlib.pyplot as plt\n",
        "\n",
        "df = pd.read_csv('/content/drive/MyDrive/yogiyo/train_test_data/textdata.csv')\n",
        "\n",
        "df.Review.apply(len).max()\n",
        "df.Review.apply(len).min()\n",
        "df.Review.apply(len).mean()\n",
        "\n",
        "plt.hist([len(s) for s in df.Review], bins=50)\n",
        "plt.xlabel('length of samples')\n",
        "plt.ylabel('number of samples')\n",
        "plt.show()"
      ],
      "execution_count": 37,
      "outputs": [
        {
          "output_type": "display_data",
          "data": {
            "image/png": "[encoded data removed]",
            "text/plain": [
              "<Figure size 432x288 with 1 Axes>"
            ]
          },
          "metadata": {
            "tags": [],
            "needs_background": "light"
          }
        }
      ]
    }
  ]
}
