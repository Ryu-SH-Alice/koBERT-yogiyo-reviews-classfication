{
 "cells": [
  {
   "cell_type": "code",
   "execution_count": 4,
   "id": "249ed9d5",
   "metadata": {},
   "outputs": [],
   "source": [
    "import pandas as pd\n",
    "import numpy as np\n",
    "import glob\n",
    "import re"
   ]
  },
  {
   "cell_type": "code",
   "execution_count": 5,
   "id": "40a80559",
   "metadata": {
    "scrolled": true
   },
   "outputs": [
    {
     "name": "stdout",
     "output_type": "stream",
     "text": [
      "['data\\\\1981옛날통닭.csv', 'data\\\\1인용마라탕-파주점.csv', 'data\\\\1인용묵은지김치찜-파주점.csv', 'data\\\\1인용월남쌈-파주점.csv', 'data\\\\1인용이태원부대찌개-파주점.csv', 'data\\\\1인한식당-파주점.csv', 'data\\\\24시금촌야식.csv', 'data\\\\24시월남에서돌아온오리와불닭발.csv', 'data\\\\79치킨-야당본점.csv', 'data\\\\7번가만원의행복.csv', 'data\\\\7번가짬뽕.csv', 'data\\\\BBQ-파주가람점.csv', 'data\\\\GS25-당하늘품점.csv', 'data\\\\GS25-운정드림점.csv', 'data\\\\GS25-운정미소점.csv', 'data\\\\GS25-운정해솔로점.csv', 'data\\\\USA존슨부대찌개-파주점.csv', 'data\\\\W레스토랑&펍-운정점.csv', 'data\\\\가까운소풍김밥연가.csv', 'data\\\\가람청춘횟집.csv', 'data\\\\가보족발-운정점.csv', 'data\\\\감탄떡볶이-파주야당점.csv', 'data\\\\걸작떡볶이치킨-운정산내점.csv', 'data\\\\걸작떡볶이치킨-파주운정점.csv', 'data\\\\경성보쌈그리고일품낙지.csv', 'data\\\\계림원누릉지통닭-운정점.csv', 'data\\\\고기듬뿍비빔밥&숯불고기냉면-교하점.csv', 'data\\\\고래카레-파주운정점.csv', 'data\\\\고수닭강정.csv', 'data\\\\고수떡볶이-가람본점.csv', 'data\\\\고양동소문난매운떡볶이.csv', 'data\\\\골라먹는덮밥-운정점.csv', 'data\\\\교촌치킨-가람마을점.csv', 'data\\\\교촌치킨-산내마을점.csv', 'data\\\\구구족-파주운정점.csv', 'data\\\\구석진구석에.csv', 'data\\\\국대떡볶이-이마트파주운정점.csv', 'data\\\\국수나무-파주야당점.csv', 'data\\\\군산오징어-파주운정점.csv', 'data\\\\군자대한곱창-야당역점.csv', 'data\\\\굽네치킨&피자-금촌점.csv', 'data\\\\굽네치킨&피자-운정1호점.csv', 'data\\\\그집쭈꾸미볶음.csv', 'data\\\\금촌아구찜.csv', 'data\\\\금촌아구탕&찜.csv', 'data\\\\긍정연어-운정점.csv', 'data\\\\긍정참치.csv', 'data\\\\긴자료코-야당점.csv', 'data\\\\김가네-가람마을점.csv', 'data\\\\김계수찜탕전문점.csv', 'data\\\\김대표-운정점.csv', 'data\\\\김밥천국-야당점.csv', 'data\\\\김밥천국-운정행복센터점.csv', 'data\\\\김앤밥-파주점.csv', 'data\\\\김이닭발&통닭.csv', 'data\\\\까스킹닭발덕후.csv', 'data\\\\나정순할매쭈꾸미.csv', 'data\\\\남바완돈카츠-운정점.csv', 'data\\\\낭만옵빠-운정점.csv', 'data\\\\낭만치맥낭만치킨-파주운정가람점.csv', 'data\\\\노랑통닭-운정1호점.csv', 'data\\\\누구나홀딱반한닭-교하점.csv', 'data\\\\다이어트는육회로.csv', 'data\\\\담꾹-한빛마을점.csv', 'data\\\\대왕수제유부초밥유부야-야당점.csv', 'data\\\\대한초밥-야당점.csv', 'data\\\\더벤티-파주야당역점.csv', 'data\\\\더본아구찜-파주운정점.csv', 'data\\\\더치앤빈-파주운정점.csv', 'data\\\\던킨-파주운정점.csv', 'data\\\\돈가스공방.csv', 'data\\\\돈까스고집-파주운정점.csv', 'data\\\\돈까스에빠지다.csv', 'data\\\\돈까스퐁당떡볶이공수간-파주운정점.csv', 'data\\\\동궁찜닭-파주점.csv', 'data\\\\동화.csv', 'data\\\\두남자의볶음밥&이찌카레-파주점.csv', 'data\\\\두마리맛좋은파닭.csv', 'data\\\\땅땅치킨-운정점.csv', 'data\\\\떡볶이도맛있는치킨플러스-운정목동점.csv', 'data\\\\떡볶이의품격-운정점.csv', 'data\\\\떡참로제떡볶이&닭발-파주운정1호점.csv', 'data\\\\또봉이통닭-파주운정역점.csv', 'data\\\\또와분식.csv', 'data\\\\뚜레쥬르-파주운정가람점.csv', 'data\\\\뚜레쥬르-파주운정비발디점.csv', 'data\\\\러훠쿵푸마라탕.csv', 'data\\\\레전드고기한상-운정점.csv', 'data\\\\레후즉석떡볶이.csv', 'data\\\\로커스치킨-교하운정점.csv', 'data\\\\롯데리아-파주운정점.csv', 'data\\\\롯데리아-홈플러스파주운정점.csv', 'data\\\\마라반점&포슈아베트남쌀국수-운정점.csv', 'data\\\\마라반점-파주점.csv', 'data\\\\마마경양식.csv', 'data\\\\마피아떡볶이-파주운정점.csv', 'data\\\\맘스터치-운정산내마을점.csv', 'data\\\\맛담돈까스&비빔밥.csv', 'data\\\\맵도리탕-운정점.csv', 'data\\\\먹퍼푸드카츠.csv', 'data\\\\메가MGC커피-운정가람마을점.csv', 'data\\\\멕시카나-운정해솔마을점.csv', 'data\\\\멕시카나-파주교하점.csv', 'data\\\\명가진참치.csv', 'data\\\\무봉리토종순대국-파주운정점.csv', 'data\\\\미가라멘-야당역점.csv', 'data\\\\미미초밥-파주운정점.csv', 'data\\\\미소야-산내마을점.csv', 'data\\\\미소야-파주운정점.csv', 'data\\\\미소야돈카츠&덮밥-산내마을점.csv', 'data\\\\미소야알밥&우동(모밀)-산내마을점.csv', 'data\\\\바른치킨-운정산내마을점.csv', 'data\\\\배달은해드릴께.csv', 'data\\\\배떡-운정점.csv', 'data\\\\배스킨라빈스-운정해솔마을점.csv', 'data\\\\배터지는생동까스-파주운정점.csv', 'data\\\\백곱식당-야당점.csv', 'data\\\\버거앤프라이즈-파주운정점.csv', 'data\\\\보쌈천하.csv', 'data\\\\보영만두-파주운정점.csv', 'data\\\\북창동순두부-파주금촌점.csv', 'data\\\\분식이이래도되는가-운정점.csv', 'data\\\\불스떡볶이-운정점.csv', 'data\\\\블랙오래-파주운정점.csv', 'data\\\\블레드-금촌점.csv', 'data\\\\빙달-파주운정점.csv', 'data\\\\빙수대첩운정점.csv', 'data\\\\빨강떡볶이-파주운정점.csv', 'data\\\\빨강호랭이-운정점.csv', 'data\\\\산내회수산.csv', 'data\\\\삼척포구.csv', 'data\\\\삼첩분식-파주운정점.csv', 'data\\\\설레족발-운정점.csv', 'data\\\\설빙-경기파주운정점.csv', 'data\\\\성별에이유&에프터유.csv', 'data\\\\셰프의초밥-산내마을점.csv', 'data\\\\속초엔.csv', 'data\\\\수제밀계빵돈까스.csv', 'data\\\\순수치킨-파주교하점.csv', 'data\\\\스시세끼운정본점.csv', 'data\\\\스시애반하다-탄현점.csv', 'data\\\\신림동별장순대-2호점.csv', 'data\\\\신전떡볶이-산내마을점.csv', 'data\\\\신전떡볶이-파주운정점.csv', 'data\\\\싸다구족발&보쌈-운정점.csv', 'data\\\\싸다알뜰보쌈-운정점.csv', 'data\\\\싸움의고수-파주와동점.csv', 'data\\\\아하갈비-야당본점.csv', 'data\\\\안서방왕족발보쌈.csv', 'data\\\\알리바바바베큐.csv', 'data\\\\양계장집아들-야당역점.csv', 'data\\\\어원수산.csv', 'data\\\\에그드랍-야당역점.csv', 'data\\\\올리브김밥.csv', 'data\\\\와플대학-파주교하캠퍼스.csv', 'data\\\\요거트아이스크림의정석-운정신도시점.csv', 'data\\\\요거프레소-파주산내마을점.csv', 'data\\\\용보쌈족발.csv', 'data\\\\우리동네꽃족발-가좌점.csv', 'data\\\\운정이학순베이커리.csv', 'data\\\\운정족발.csv', 'data\\\\운정족발쿠데타.csv', 'data\\\\원할머니보쌈-파주운정점.csv', 'data\\\\웰빙장충왕족발-와동동.csv', 'data\\\\유씨네족발공장.csv', 'data\\\\유진-파주운정점.csv', 'data\\\\육회낙지탕탕이.csv', 'data\\\\육회랑연어사이.csv', 'data\\\\육회지존-중산점.csv', 'data\\\\이디야커피-파주가람마을점.csv', 'data\\\\이백장돈가스-파주운정점.csv', 'data\\\\이삭토스트-운정산내마을점.csv', 'data\\\\이삭토스트-운정해솔마을점.csv', 'data\\\\이태리부대찌개-일산덕이점.csv', 'data\\\\일산명품육회-세트전문.csv', 'data\\\\자담치킨-운정이마트점.csv', 'data\\\\자담치킨-운정점.csv', 'data\\\\전주댁콩나물국밥.csv', 'data\\\\정대희숯불두마리치킨-운정점.csv', 'data\\\\정씨함박-운정점.csv', 'data\\\\족발n속초물회.csv', 'data\\\\족발당수-와동동.csv', 'data\\\\족발야시장-교하점.csv', 'data\\\\족발야시장-파주운정점.csv', 'data\\\\족발천하.csv', 'data\\\\족보천하-동패점.csv', 'data\\\\좋은생각수제돈까스전문점.csv', 'data\\\\죠스떡볶이-파주가람마을점.csv', 'data\\\\주문진회.csv', 'data\\\\지랄닭발-운정신도시점.csv', 'data\\\\지코바치킨-운정2호점.csv', 'data\\\\지코바치킨-탄현점.csv', 'data\\\\집밥유선생.csv', 'data\\\\차오차오-파주운정점.csv', 'data\\\\착한족발-운정역점.csv', 'data\\\\착한쭝식.csv', 'data\\\\처갓집양념치킨-운정2호점.csv', 'data\\\\처갓집양념치킨-운정3호점.csv', 'data\\\\천년아구찜-파주점.csv', 'data\\\\천상마라탕-운정점.csv', 'data\\\\청년다방-파주목동점.csv', 'data\\\\청담족발-운정점.csv', 'data\\\\초밥에미친남자-일산점.csv', 'data\\\\최고족발-운정점.csv', 'data\\\\치킨마루-탄현점.csv', 'data\\\\치킨먹고갈래.csv', 'data\\\\치킨은후라이드-운정점.csv', 'data\\\\치킨창고-운정점.csv', 'data\\\\치킨파티-운정점.csv', 'data\\\\카페1989-운정점.csv', 'data\\\\카페게이트-운정산내마을점.csv', 'data\\\\카페라파스.csv', 'data\\\\카페인중독-파주운정점.csv', 'data\\\\카페혜원.csv', 'data\\\\커피마인.csv', 'data\\\\컴포즈커피-운정가람마을점.csv', 'data\\\\코다리밥상-파주산내점.csv', 'data\\\\코리엔탈깻잎두마리치킨-운정점.csv', 'data\\\\퀴즈노스샌드위치-파주운정점.csv', 'data\\\\퀸즈브라운-파주운정점.csv', 'data\\\\크리스피크림도넛-파주운정점.csv', 'data\\\\큰맘할매순대국-파주운정점.csv', 'data\\\\킴스덕.csv', 'data\\\\태리로제떡볶이.csv', 'data\\\\테라호프.csv', 'data\\\\투썸플레이스-운정역점.csv', 'data\\\\투썸플레이스-파주운정가람점.csv', 'data\\\\티바두마리치킨-운정이마트점.csv', 'data\\\\파리바게뜨-운정가람마을점.csv', 'data\\\\파리바게뜨-운정역점.csv', 'data\\\\파리바게뜨-운정해솔점.csv', 'data\\\\파주정곰탕.csv', 'data\\\\팜스활어회직판장.csv', 'data\\\\페리아-덮밥전문점.csv', 'data\\\\페리카나-교하신도시점.csv', 'data\\\\페리카나-운정1점.csv', 'data\\\\페이크블루.csv', 'data\\\\폴인카츠-운정점.csv', 'data\\\\퐁당카츠-파주운정점.csv', 'data\\\\푸라닭-파주교하신도시점.csv', 'data\\\\푸라닭-파주와동점.csv', 'data\\\\피자1989-운정본점.csv', 'data\\\\피자나라치킨공주-파주운정2호점.csv', 'data\\\\피자엠소마-파주운정점.csv', 'data\\\\피자이탈리-운정점.csv', 'data\\\\하우스콜피자치킨-운정점.csv', 'data\\\\한빛마을빨강떡볶이.csv', 'data\\\\한성불닭.csv', 'data\\\\한우육회&육사시미.csv', 'data\\\\한우투플육회&생연어회.csv', 'data\\\\할머니가래떡볶이-운정1호점.csv', 'data\\\\혜화동돈까스극장-고양탄현점.csv', 'data\\\\혜화동돈까스극장-파주운정점.csv', 'data\\\\호세야오리바베큐-와동점.csv', 'data\\\\호식이두마리치킨-운정2호점.csv', 'data\\\\홈플러스익스프레스-파주와동점.csv', 'data\\\\홍가.csv', 'data\\\\홍화루.csv', 'data\\\\화정족발-가람마을점.csv', 'data\\\\회먹고가시게.csv']\n"
     ]
    }
   ],
   "source": [
    "file_list = glob.glob('data/*.csv')\n",
    "print(file_list)"
   ]
  },
  {
   "cell_type": "code",
   "execution_count": 6,
   "id": "e73e96c9",
   "metadata": {
    "scrolled": true
   },
   "outputs": [],
   "source": [
    "for ind,file in enumerate(file_list):\n",
    "    if ind == 0:\n",
    "        yogiyo_review = pd.read_csv(file)\n",
    "    else:\n",
    "        yogiyo_review = pd.concat([yogiyo_review, pd.read_csv(file)])\n",
    "yogiyo_review_df = yogiyo_review.copy()"
   ]
  },
  {
   "cell_type": "code",
   "execution_count": 7,
   "id": "6f241d33",
   "metadata": {
    "scrolled": true
   },
   "outputs": [
    {
     "name": "stdout",
     "output_type": "stream",
     "text": [
      "(63434, 12)\n"
     ]
    },
    {
     "data": {
      "text/html": [
       "<div>\n",
       "<style scoped>\n",
       "    .dataframe tbody tr th:only-of-type {\n",
       "        vertical-align: middle;\n",
       "    }\n",
       "\n",
       "    .dataframe tbody tr th {\n",
       "        vertical-align: top;\n",
       "    }\n",
       "\n",
       "    .dataframe thead th {\n",
       "        text-align: right;\n",
       "    }\n",
       "</style>\n",
       "<table border=\"1\" class=\"dataframe\">\n",
       "  <thead>\n",
       "    <tr style=\"text-align: right;\">\n",
       "      <th></th>\n",
       "      <th>Unnamed: 0</th>\n",
       "      <th>Category</th>\n",
       "      <th>Location</th>\n",
       "      <th>Restaurant</th>\n",
       "      <th>UserID</th>\n",
       "      <th>Menu</th>\n",
       "      <th>Review</th>\n",
       "      <th>Date</th>\n",
       "      <th>Total</th>\n",
       "      <th>Taste</th>\n",
       "      <th>Quantity</th>\n",
       "      <th>Delivery</th>\n",
       "    </tr>\n",
       "  </thead>\n",
       "  <tbody>\n",
       "    <tr>\n",
       "      <th>0</th>\n",
       "      <td>0</td>\n",
       "      <td>분식</td>\n",
       "      <td>운정1동</td>\n",
       "      <td>1981옛날통닭</td>\n",
       "      <td>50**님</td>\n",
       "      <td>옛날통닭/1(사이즈 선택(1마리)),닭강정/1(닭강정 맛 선택(순한맛))</td>\n",
       "      <td>여기 정말 맛있어요~♡</td>\n",
       "      <td>2021년 7월 14일</td>\n",
       "      <td>5</td>\n",
       "      <td>5.0</td>\n",
       "      <td>5.0</td>\n",
       "      <td>5.0</td>\n",
       "    </tr>\n",
       "    <tr>\n",
       "      <th>1</th>\n",
       "      <td>1</td>\n",
       "      <td>분식</td>\n",
       "      <td>운정1동</td>\n",
       "      <td>1981옛날통닭</td>\n",
       "      <td>mi**님</td>\n",
       "      <td>옛날통닭/1(사이즈 선택(2마리))</td>\n",
       "      <td>맛잇게 잘먹었네요ㅋ</td>\n",
       "      <td>2021년 7월 6일</td>\n",
       "      <td>5</td>\n",
       "      <td>5.0</td>\n",
       "      <td>5.0</td>\n",
       "      <td>5.0</td>\n",
       "    </tr>\n",
       "    <tr>\n",
       "      <th>2</th>\n",
       "      <td>2</td>\n",
       "      <td>분식</td>\n",
       "      <td>운정1동</td>\n",
       "      <td>1981옛날통닭</td>\n",
       "      <td>손님</td>\n",
       "      <td>옛날통닭/1(사이즈 선택(1마리)),반반치킨（양념반＋후라이드반）/1(음료 추가 선택...</td>\n",
       "      <td>별로 닭에 기름한가득 세상에나 안먹었네요 옛날통닭도 기름한가득이진 않아요 기름제거좀...</td>\n",
       "      <td>2021년 6월 1일</td>\n",
       "      <td>1</td>\n",
       "      <td>1.0</td>\n",
       "      <td>1.0</td>\n",
       "      <td>1.0</td>\n",
       "    </tr>\n",
       "    <tr>\n",
       "      <th>3</th>\n",
       "      <td>3</td>\n",
       "      <td>분식</td>\n",
       "      <td>운정1동</td>\n",
       "      <td>1981옛날통닭</td>\n",
       "      <td>bo**님</td>\n",
       "      <td>옛날통닭/1(사이즈 선택(1마리)),양념치킨/1(음료 추가 선택(선택 안함))</td>\n",
       "      <td>맛있어요. 남편이 좋아하네요.</td>\n",
       "      <td>2021년 5월 29일</td>\n",
       "      <td>5</td>\n",
       "      <td>5.0</td>\n",
       "      <td>5.0</td>\n",
       "      <td>5.0</td>\n",
       "    </tr>\n",
       "    <tr>\n",
       "      <th>4</th>\n",
       "      <td>4</td>\n",
       "      <td>분식</td>\n",
       "      <td>운정1동</td>\n",
       "      <td>1981옛날통닭</td>\n",
       "      <td>wn**님</td>\n",
       "      <td>닭껍질튀김 /1,양념소스 추가/1,1866 블론드 3캔 ＋ 1866 블랑쉬 1캔/1</td>\n",
       "      <td>바삭하고 맛있어요~^^!</td>\n",
       "      <td>2021년 5월 24일</td>\n",
       "      <td>5</td>\n",
       "      <td>5.0</td>\n",
       "      <td>5.0</td>\n",
       "      <td>5.0</td>\n",
       "    </tr>\n",
       "  </tbody>\n",
       "</table>\n",
       "</div>"
      ],
      "text/plain": [
       "   Unnamed: 0 Category Location Restaurant UserID  \\\n",
       "0           0       분식     운정1동   1981옛날통닭  50**님   \n",
       "1           1       분식     운정1동   1981옛날통닭  mi**님   \n",
       "2           2       분식     운정1동   1981옛날통닭     손님   \n",
       "3           3       분식     운정1동   1981옛날통닭  bo**님   \n",
       "4           4       분식     운정1동   1981옛날통닭  wn**님   \n",
       "\n",
       "                                                Menu  \\\n",
       "0           옛날통닭/1(사이즈 선택(1마리)),닭강정/1(닭강정 맛 선택(순한맛))   \n",
       "1                                옛날통닭/1(사이즈 선택(2마리))   \n",
       "2  옛날통닭/1(사이즈 선택(1마리)),반반치킨（양념반＋후라이드반）/1(음료 추가 선택...   \n",
       "3        옛날통닭/1(사이즈 선택(1마리)),양념치킨/1(음료 추가 선택(선택 안함))   \n",
       "4     닭껍질튀김 /1,양념소스 추가/1,1866 블론드 3캔 ＋ 1866 블랑쉬 1캔/1   \n",
       "\n",
       "                                              Review          Date  Total  \\\n",
       "0                                       여기 정말 맛있어요~♡  2021년 7월 14일      5   \n",
       "1                                         맛잇게 잘먹었네요ㅋ   2021년 7월 6일      5   \n",
       "2  별로 닭에 기름한가득 세상에나 안먹었네요 옛날통닭도 기름한가득이진 않아요 기름제거좀...   2021년 6월 1일      1   \n",
       "3                                   맛있어요. 남편이 좋아하네요.  2021년 5월 29일      5   \n",
       "4                                      바삭하고 맛있어요~^^!  2021년 5월 24일      5   \n",
       "\n",
       "   Taste  Quantity  Delivery  \n",
       "0    5.0       5.0       5.0  \n",
       "1    5.0       5.0       5.0  \n",
       "2    1.0       1.0       1.0  \n",
       "3    5.0       5.0       5.0  \n",
       "4    5.0       5.0       5.0  "
      ]
     },
     "execution_count": 7,
     "metadata": {},
     "output_type": "execute_result"
    }
   ],
   "source": [
    "print(yogiyo_review.shape)\n",
    "yogiyo_review.head()"
   ]
  },
  {
   "cell_type": "code",
   "execution_count": 8,
   "id": "f1bc1f98",
   "metadata": {
    "scrolled": true
   },
   "outputs": [
    {
     "data": {
      "text/html": [
       "<div>\n",
       "<style scoped>\n",
       "    .dataframe tbody tr th:only-of-type {\n",
       "        vertical-align: middle;\n",
       "    }\n",
       "\n",
       "    .dataframe tbody tr th {\n",
       "        vertical-align: top;\n",
       "    }\n",
       "\n",
       "    .dataframe thead th {\n",
       "        text-align: right;\n",
       "    }\n",
       "</style>\n",
       "<table border=\"1\" class=\"dataframe\">\n",
       "  <thead>\n",
       "    <tr style=\"text-align: right;\">\n",
       "      <th></th>\n",
       "      <th>Review</th>\n",
       "      <th>Total</th>\n",
       "    </tr>\n",
       "  </thead>\n",
       "  <tbody>\n",
       "    <tr>\n",
       "      <th>0</th>\n",
       "      <td>여기 정말 맛있어요~♡</td>\n",
       "      <td>5</td>\n",
       "    </tr>\n",
       "    <tr>\n",
       "      <th>1</th>\n",
       "      <td>맛잇게 잘먹었네요ㅋ</td>\n",
       "      <td>5</td>\n",
       "    </tr>\n",
       "    <tr>\n",
       "      <th>2</th>\n",
       "      <td>별로 닭에 기름한가득 세상에나 안먹었네요 옛날통닭도 기름한가득이진 않아요 기름제거좀...</td>\n",
       "      <td>1</td>\n",
       "    </tr>\n",
       "    <tr>\n",
       "      <th>3</th>\n",
       "      <td>맛있어요. 남편이 좋아하네요.</td>\n",
       "      <td>5</td>\n",
       "    </tr>\n",
       "    <tr>\n",
       "      <th>4</th>\n",
       "      <td>바삭하고 맛있어요~^^!</td>\n",
       "      <td>5</td>\n",
       "    </tr>\n",
       "    <tr>\n",
       "      <th>...</th>\n",
       "      <td>...</td>\n",
       "      <td>...</td>\n",
       "    </tr>\n",
       "    <tr>\n",
       "      <th>681</th>\n",
       "      <td>처음 주문했었는데 완전완전 맘에 들어용👍👍 금액도 다른 횟집에 비해 저렴하구 양도 ...</td>\n",
       "      <td>5</td>\n",
       "    </tr>\n",
       "    <tr>\n",
       "      <th>682</th>\n",
       "      <td>가격도 저렴하고 너무 맛나요 전복내장 좋아하는데 없어서 좀 아쉬웠어요</td>\n",
       "      <td>5</td>\n",
       "    </tr>\n",
       "    <tr>\n",
       "      <th>683</th>\n",
       "      <td>너무 맛있고 저렴해서 완전 대만족입니당 어제 산낙지 먹었는데 오늘 또 주문할까나 고...</td>\n",
       "      <td>5</td>\n",
       "    </tr>\n",
       "    <tr>\n",
       "      <th>684</th>\n",
       "      <td>푸짐하고 맛도 괜찮네요</td>\n",
       "      <td>5</td>\n",
       "    </tr>\n",
       "    <tr>\n",
       "      <th>685</th>\n",
       "      <td>신선하고 보기보다 양이 많았습니다 잘먹었습니다</td>\n",
       "      <td>5</td>\n",
       "    </tr>\n",
       "  </tbody>\n",
       "</table>\n",
       "<p>63434 rows × 2 columns</p>\n",
       "</div>"
      ],
      "text/plain": [
       "                                                Review  Total\n",
       "0                                         여기 정말 맛있어요~♡      5\n",
       "1                                           맛잇게 잘먹었네요ㅋ      5\n",
       "2    별로 닭에 기름한가득 세상에나 안먹었네요 옛날통닭도 기름한가득이진 않아요 기름제거좀...      1\n",
       "3                                     맛있어요. 남편이 좋아하네요.      5\n",
       "4                                        바삭하고 맛있어요~^^!      5\n",
       "..                                                 ...    ...\n",
       "681  처음 주문했었는데 완전완전 맘에 들어용👍👍 금액도 다른 횟집에 비해 저렴하구 양도 ...      5\n",
       "682             가격도 저렴하고 너무 맛나요 전복내장 좋아하는데 없어서 좀 아쉬웠어요      5\n",
       "683  너무 맛있고 저렴해서 완전 대만족입니당 어제 산낙지 먹었는데 오늘 또 주문할까나 고...      5\n",
       "684                                       푸짐하고 맛도 괜찮네요      5\n",
       "685                          신선하고 보기보다 양이 많았습니다 잘먹었습니다      5\n",
       "\n",
       "[63434 rows x 2 columns]"
      ]
     },
     "execution_count": 8,
     "metadata": {},
     "output_type": "execute_result"
    }
   ],
   "source": [
    "yogiyo_review_df = yogiyo_review_df.drop(['Unnamed: 0','Category','Location','Restaurant','UserID','Menu','Date','Taste','Quantity','Delivery'],axis=1)\n",
    "yogiyo_review_df"
   ]
  },
  {
   "cell_type": "code",
   "execution_count": 9,
   "id": "7ca13efe",
   "metadata": {
    "scrolled": true
   },
   "outputs": [
    {
     "data": {
      "text/plain": [
       "5    51701\n",
       "4     7480\n",
       "3     2309\n",
       "1     1209\n",
       "2      735\n",
       "Name: Total, dtype: int64"
      ]
     },
     "execution_count": 9,
     "metadata": {},
     "output_type": "execute_result"
    }
   ],
   "source": [
    "yogiyo_review_df.Total.value_counts()"
   ]
  },
  {
   "cell_type": "code",
   "execution_count": 10,
   "id": "04d9994a",
   "metadata": {},
   "outputs": [
    {
     "data": {
      "text/html": [
       "<div>\n",
       "<style scoped>\n",
       "    .dataframe tbody tr th:only-of-type {\n",
       "        vertical-align: middle;\n",
       "    }\n",
       "\n",
       "    .dataframe tbody tr th {\n",
       "        vertical-align: top;\n",
       "    }\n",
       "\n",
       "    .dataframe thead th {\n",
       "        text-align: right;\n",
       "    }\n",
       "</style>\n",
       "<table border=\"1\" class=\"dataframe\">\n",
       "  <thead>\n",
       "    <tr style=\"text-align: right;\">\n",
       "      <th></th>\n",
       "      <th>Review</th>\n",
       "      <th>Total</th>\n",
       "      <th>regex_review</th>\n",
       "    </tr>\n",
       "  </thead>\n",
       "  <tbody>\n",
       "    <tr>\n",
       "      <th>0</th>\n",
       "      <td>여기 정말 맛있어요~♡</td>\n",
       "      <td>5</td>\n",
       "      <td>여기 정말 맛있어요</td>\n",
       "    </tr>\n",
       "    <tr>\n",
       "      <th>1</th>\n",
       "      <td>맛잇게 잘먹었네요ㅋ</td>\n",
       "      <td>5</td>\n",
       "      <td>맛잇게 잘먹었네요</td>\n",
       "    </tr>\n",
       "    <tr>\n",
       "      <th>2</th>\n",
       "      <td>별로 닭에 기름한가득 세상에나 안먹었네요 옛날통닭도 기름한가득이진 않아요 기름제거좀...</td>\n",
       "      <td>1</td>\n",
       "      <td>별로 닭에 기름한가득 세상에나 안먹었네요 옛날통닭도 기름한가득이진 않아요 기름제거좀...</td>\n",
       "    </tr>\n",
       "    <tr>\n",
       "      <th>3</th>\n",
       "      <td>맛있어요. 남편이 좋아하네요.</td>\n",
       "      <td>5</td>\n",
       "      <td>맛있어요  남편이 좋아하네요</td>\n",
       "    </tr>\n",
       "    <tr>\n",
       "      <th>4</th>\n",
       "      <td>바삭하고 맛있어요~^^!</td>\n",
       "      <td>5</td>\n",
       "      <td>바삭하고 맛있어요</td>\n",
       "    </tr>\n",
       "    <tr>\n",
       "      <th>...</th>\n",
       "      <td>...</td>\n",
       "      <td>...</td>\n",
       "      <td>...</td>\n",
       "    </tr>\n",
       "    <tr>\n",
       "      <th>681</th>\n",
       "      <td>처음 주문했었는데 완전완전 맘에 들어용👍👍 금액도 다른 횟집에 비해 저렴하구 양도 ...</td>\n",
       "      <td>5</td>\n",
       "      <td>처음 주문했었는데 완전완전 맘에 들어용   금액도 다른 횟집에 비해 저렴하구 양도 ...</td>\n",
       "    </tr>\n",
       "    <tr>\n",
       "      <th>682</th>\n",
       "      <td>가격도 저렴하고 너무 맛나요 전복내장 좋아하는데 없어서 좀 아쉬웠어요</td>\n",
       "      <td>5</td>\n",
       "      <td>가격도 저렴하고 너무 맛나요 전복내장 좋아하는데 없어서 좀 아쉬웠어요</td>\n",
       "    </tr>\n",
       "    <tr>\n",
       "      <th>683</th>\n",
       "      <td>너무 맛있고 저렴해서 완전 대만족입니당 어제 산낙지 먹었는데 오늘 또 주문할까나 고...</td>\n",
       "      <td>5</td>\n",
       "      <td>너무 맛있고 저렴해서 완전 대만족입니당 어제 산낙지 먹었는데 오늘 또 주문할까나 고...</td>\n",
       "    </tr>\n",
       "    <tr>\n",
       "      <th>684</th>\n",
       "      <td>푸짐하고 맛도 괜찮네요</td>\n",
       "      <td>5</td>\n",
       "      <td>푸짐하고 맛도 괜찮네요</td>\n",
       "    </tr>\n",
       "    <tr>\n",
       "      <th>685</th>\n",
       "      <td>신선하고 보기보다 양이 많았습니다 잘먹었습니다</td>\n",
       "      <td>5</td>\n",
       "      <td>신선하고 보기보다 양이 많았습니다 잘먹었습니다</td>\n",
       "    </tr>\n",
       "  </tbody>\n",
       "</table>\n",
       "<p>63434 rows × 3 columns</p>\n",
       "</div>"
      ],
      "text/plain": [
       "                                                Review  Total  \\\n",
       "0                                         여기 정말 맛있어요~♡      5   \n",
       "1                                           맛잇게 잘먹었네요ㅋ      5   \n",
       "2    별로 닭에 기름한가득 세상에나 안먹었네요 옛날통닭도 기름한가득이진 않아요 기름제거좀...      1   \n",
       "3                                     맛있어요. 남편이 좋아하네요.      5   \n",
       "4                                        바삭하고 맛있어요~^^!      5   \n",
       "..                                                 ...    ...   \n",
       "681  처음 주문했었는데 완전완전 맘에 들어용👍👍 금액도 다른 횟집에 비해 저렴하구 양도 ...      5   \n",
       "682             가격도 저렴하고 너무 맛나요 전복내장 좋아하는데 없어서 좀 아쉬웠어요      5   \n",
       "683  너무 맛있고 저렴해서 완전 대만족입니당 어제 산낙지 먹었는데 오늘 또 주문할까나 고...      5   \n",
       "684                                       푸짐하고 맛도 괜찮네요      5   \n",
       "685                          신선하고 보기보다 양이 많았습니다 잘먹었습니다      5   \n",
       "\n",
       "                                          regex_review  \n",
       "0                                         여기 정말 맛있어요    \n",
       "1                                           맛잇게 잘먹었네요   \n",
       "2    별로 닭에 기름한가득 세상에나 안먹었네요 옛날통닭도 기름한가득이진 않아요 기름제거좀...  \n",
       "3                                     맛있어요  남편이 좋아하네요   \n",
       "4                                        바삭하고 맛있어요      \n",
       "..                                                 ...  \n",
       "681  처음 주문했었는데 완전완전 맘에 들어용   금액도 다른 횟집에 비해 저렴하구 양도 ...  \n",
       "682             가격도 저렴하고 너무 맛나요 전복내장 좋아하는데 없어서 좀 아쉬웠어요  \n",
       "683  너무 맛있고 저렴해서 완전 대만족입니당 어제 산낙지 먹었는데 오늘 또 주문할까나 고...  \n",
       "684                                       푸짐하고 맛도 괜찮네요  \n",
       "685                          신선하고 보기보다 양이 많았습니다 잘먹었습니다  \n",
       "\n",
       "[63434 rows x 3 columns]"
      ]
     },
     "execution_count": 10,
     "metadata": {},
     "output_type": "execute_result"
    }
   ],
   "source": [
    "# 특수문자를 공백으로 바꿔주는 함수\n",
    "def regex_review(review):\n",
    "    p = re.compile('[^가-힣 ]')\n",
    "    result = p.sub(' ',review)\n",
    "    return result\n",
    "yogiyo_review_df['regex_review'] = yogiyo_review_df['Review'].apply(regex_review)\n",
    "yogiyo_review_df"
   ]
  },
  {
   "cell_type": "code",
   "execution_count": 11,
   "id": "10866485",
   "metadata": {},
   "outputs": [],
   "source": [
    "yogiyo_review_df['길이'] = [len(regex_review.split()) for regex_review in yogiyo_review_df.regex_review.to_list()]"
   ]
  },
  {
   "cell_type": "code",
   "execution_count": 12,
   "id": "ad4dd927",
   "metadata": {},
   "outputs": [],
   "source": [
    "yogiyo_review_df = yogiyo_review_df[yogiyo_review_df['길이'] >= 12]"
   ]
  },
  {
   "cell_type": "code",
   "execution_count": 13,
   "id": "13f9a4b1",
   "metadata": {
    "scrolled": true
   },
   "outputs": [
    {
     "data": {
      "text/plain": [
       "5    12938\n",
       "4     2037\n",
       "3      807\n",
       "1      687\n",
       "2      338\n",
       "Name: Total, dtype: int64"
      ]
     },
     "execution_count": 13,
     "metadata": {},
     "output_type": "execute_result"
    }
   ],
   "source": [
    "yogiyo_review_df.Total.value_counts()"
   ]
  },
  {
   "cell_type": "code",
   "execution_count": 14,
   "id": "b5345722",
   "metadata": {
    "scrolled": true
   },
   "outputs": [],
   "source": [
    "yogiyo_review_df.to_csv('data/data_설진영_원본.txt',sep='\\t')\n",
    "yogiyo_review_df[['Total','regex_review']].to_csv('data/data_설진영.txt',sep='\\t')"
   ]
  }
 ],
 "metadata": {
  "kernelspec": {
   "display_name": "Python 3",
   "language": "python",
   "name": "python3"
  },
  "language_info": {
   "codemirror_mode": {
    "name": "ipython",
    "version": 3
   },
   "file_extension": ".py",
   "mimetype": "text/x-python",
   "name": "python",
   "nbconvert_exporter": "python",
   "pygments_lexer": "ipython3",
   "version": "3.8.8"
  }
 },
 "nbformat": 4,
 "nbformat_minor": 5
}
