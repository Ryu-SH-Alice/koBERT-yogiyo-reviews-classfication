{
  "nbformat": 4,
  "nbformat_minor": 0,
  "metadata": {
    "colab": {
      "name": "MergeData.ipynb",
      "provenance": [],
      "collapsed_sections": [],
      "mount_file_id": "1wa2175O7Ndh81v15BNtUiWSPqWy_8pP4",
      "authorship_tag": "ABX9TyOi0mIc6FEW74/2DTJTu3Fl",
      "include_colab_link": true
    },
    "kernelspec": {
      "name": "python3",
      "display_name": "Python 3"
    },
    "language_info": {
      "name": "python"
    }
  },
  "cells": [
    {
      "cell_type": "markdown",
      "metadata": {
        "id": "view-in-github",
        "colab_type": "text"
      },
      "source": [
        "<a href=\"https://colab.research.google.com/github/jinyoungsul/koBERT-yogiyo-reviews-classfication/blob/main/MergeData.ipynb\" target=\"_parent\"><img src=\"https://colab.research.google.com/assets/colab-badge.svg\" alt=\"Open In Colab\"/></a>"
      ]
    },
    {
      "cell_type": "markdown",
      "metadata": {
        "id": "7vJkscg-2g8d"
      },
      "source": [
        "#import"
      ]
    },
    {
      "cell_type": "code",
      "metadata": {
        "id": "Oqlmpy8_1zYI"
      },
      "source": [
        "import pandas as pd\n",
        "import os"
      ],
      "execution_count": 2,
      "outputs": []
    },
    {
      "cell_type": "code",
      "metadata": {
        "id": "TArVbDIn3lOF"
      },
      "source": [
        "path = '/content/drive/MyDrive/yogiyo/data_full/'"
      ],
      "execution_count": 16,
      "outputs": []
    },
    {
      "cell_type": "code",
      "metadata": {
        "id": "Jkrst-BH2geC"
      },
      "source": [
        "filenames = os.listdir(path)"
      ],
      "execution_count": 17,
      "outputs": []
    },
    {
      "cell_type": "code",
      "metadata": {
        "colab": {
          "base_uri": "https://localhost:8080/"
        },
        "id": "djGBksCV2oqP",
        "outputId": "43b82f20-25eb-4e01-8d03-17f43fbc184a"
      },
      "source": [
        "df = None\n",
        "temp = None\n",
        "\n",
        "for filename in filenames:\n",
        "    if filename == 'data_설진영_원본.txt':\n",
        "        temp = pd.read_table(path + filename)\n",
        "        temp.drop('Unnamed: 0.1', axis=1, inplace=True)\n",
        "    else:\n",
        "        temp = pd.read_csv(path + filename)\n",
        "        \n",
        "    if df is None:\n",
        "        df = temp\n",
        "        continue\n",
        "\n",
        "    df = pd.concat([df, temp], ignore_index=True)"
      ],
      "execution_count": 47,
      "outputs": [
        {
          "output_type": "stream",
          "text": [
            "<class 'pandas.core.frame.DataFrame'>\n",
            "RangeIndex: 36685 entries, 0 to 36684\n",
            "Data columns (total 12 columns):\n",
            " #   Column      Non-Null Count  Dtype  \n",
            "---  ------      --------------  -----  \n",
            " 0   Unnamed: 0  36685 non-null  int64  \n",
            " 1   Category    36685 non-null  object \n",
            " 2   Location    36685 non-null  object \n",
            " 3   Restaurant  36685 non-null  object \n",
            " 4   UserID      36685 non-null  object \n",
            " 5   Menu        35953 non-null  object \n",
            " 6   Review      36685 non-null  object \n",
            " 7   Date        36685 non-null  object \n",
            " 8   Total       36685 non-null  int64  \n",
            " 9   Taste       35716 non-null  float64\n",
            " 10  Quantity    35716 non-null  float64\n",
            " 11  Delivery    35388 non-null  float64\n",
            "dtypes: float64(3), int64(2), object(7)\n",
            "memory usage: 3.4+ MB\n",
            "None data_유수현.csv\n",
            "<class 'pandas.core.frame.DataFrame'>\n",
            "RangeIndex: 63434 entries, 0 to 63433\n",
            "Data columns (total 12 columns):\n",
            " #   Column      Non-Null Count  Dtype  \n",
            "---  ------      --------------  -----  \n",
            " 0   Unnamed: 0  63434 non-null  int64  \n",
            " 1   Category    63434 non-null  object \n",
            " 2   Location    63434 non-null  object \n",
            " 3   Restaurant  63434 non-null  object \n",
            " 4   UserID      63434 non-null  object \n",
            " 5   Menu        62296 non-null  object \n",
            " 6   Review      63434 non-null  object \n",
            " 7   Date        63434 non-null  object \n",
            " 8   Total       63434 non-null  int64  \n",
            " 9   Taste       62002 non-null  float64\n",
            " 10  Quantity    62002 non-null  float64\n",
            " 11  Delivery    61155 non-null  float64\n",
            "dtypes: float64(3), int64(2), object(7)\n",
            "memory usage: 5.8+ MB\n",
            "None data_설진영_원본.txt\n",
            "<class 'pandas.core.frame.DataFrame'>\n",
            "RangeIndex: 40718 entries, 0 to 40717\n",
            "Data columns (total 12 columns):\n",
            " #   Column      Non-Null Count  Dtype \n",
            "---  ------      --------------  ----- \n",
            " 0   Unnamed: 0  40718 non-null  int64 \n",
            " 1   Category    40718 non-null  object\n",
            " 2   Location    40718 non-null  object\n",
            " 3   Restaurant  40718 non-null  object\n",
            " 4   UserID      40718 non-null  object\n",
            " 5   Menu        40137 non-null  object\n",
            " 6   Review      40718 non-null  object\n",
            " 7   Date        40718 non-null  object\n",
            " 8   Total       40718 non-null  object\n",
            " 9   Taste       39847 non-null  object\n",
            " 10  Quantity    39847 non-null  object\n",
            " 11  Delivery    39493 non-null  object\n",
            "dtypes: int64(1), object(11)\n",
            "memory usage: 3.7+ MB\n",
            "None data_이신강.csv\n",
            "<class 'pandas.core.frame.DataFrame'>\n",
            "RangeIndex: 30629 entries, 0 to 30628\n",
            "Data columns (total 11 columns):\n",
            " #   Column      Non-Null Count  Dtype  \n",
            "---  ------      --------------  -----  \n",
            " 0   Category    30629 non-null  object \n",
            " 1   Location    30629 non-null  object \n",
            " 2   Restaurant  30629 non-null  object \n",
            " 3   UserID      30629 non-null  object \n",
            " 4   Menu        30098 non-null  object \n",
            " 5   Review      30629 non-null  object \n",
            " 6   Date        30629 non-null  object \n",
            " 7   Total       30629 non-null  int64  \n",
            " 8   Taste       29877 non-null  float64\n",
            " 9   Quantity    29877 non-null  float64\n",
            " 10  Delivery    29610 non-null  float64\n",
            "dtypes: float64(3), int64(1), object(7)\n",
            "memory usage: 2.6+ MB\n",
            "None data_이준우_원본.csv\n",
            "<class 'pandas.core.frame.DataFrame'>\n",
            "RangeIndex: 14844 entries, 0 to 14843\n",
            "Data columns (total 10 columns):\n",
            " #   Column      Non-Null Count  Dtype  \n",
            "---  ------      --------------  -----  \n",
            " 0   Unnamed: 0  14844 non-null  int64  \n",
            " 1   Restaurant  14844 non-null  object \n",
            " 2   UserID      14844 non-null  object \n",
            " 3   Menu        14823 non-null  object \n",
            " 4   Review      14844 non-null  object \n",
            " 5   Date        14844 non-null  object \n",
            " 6   Total       14844 non-null  int64  \n",
            " 7   Taste       14829 non-null  float64\n",
            " 8   Quantity    14829 non-null  float64\n",
            " 9   Delivery    14417 non-null  float64\n",
            "dtypes: float64(3), int64(2), object(5)\n",
            "memory usage: 1.1+ MB\n",
            "None data_길고은.csv\n"
          ],
          "name": "stdout"
        }
      ]
    },
    {
      "cell_type": "code",
      "metadata": {
        "id": "gs-mhzsz26ZH"
      },
      "source": [
        "df.drop('Unnamed: 0', axis=1, inplace=True)"
      ],
      "execution_count": 49,
      "outputs": []
    },
    {
      "cell_type": "code",
      "metadata": {
        "id": "xYVdr3kF6pOd"
      },
      "source": [
        "df.to_csv('/content/drive/MyDrive/yogiyo/data_full.txt', sep='\\t')\n",
        "\n",
        "df[['Total', 'Review']].to_csv('/content/drive/MyDrive/yogiyo/sampledata_full.txt', sep='\\t', header=None)"
      ],
      "execution_count": 53,
      "outputs": []
    }
  ]
}